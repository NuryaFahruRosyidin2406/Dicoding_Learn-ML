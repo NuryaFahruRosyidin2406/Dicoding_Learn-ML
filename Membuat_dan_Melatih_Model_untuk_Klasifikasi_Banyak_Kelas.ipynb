{
  "nbformat": 4,
  "nbformat_minor": 0,
  "metadata": {
    "colab": {
      "provenance": [],
      "authorship_tag": "ABX9TyMnixOGIfK/Lc/5PLEvhg6M",
      "include_colab_link": true
    },
    "kernelspec": {
      "name": "python3",
      "display_name": "Python 3"
    },
    "language_info": {
      "name": "python"
    }
  },
  "cells": [
    {
      "cell_type": "markdown",
      "metadata": {
        "id": "view-in-github",
        "colab_type": "text"
      },
      "source": [
        "<a href=\"https://colab.research.google.com/github/NuryaFahruRosyidin2406/Dicoding_Learn-ML/blob/main/Membuat_dan_Melatih_Model_untuk_Klasifikasi_Banyak_Kelas.ipynb\" target=\"_parent\"><img src=\"https://colab.research.google.com/assets/colab-badge.svg\" alt=\"Open In Colab\"/></a>"
      ]
    },
    {
      "cell_type": "code",
      "execution_count": null,
      "metadata": {
        "id": "2E18kCgv6fOO"
      },
      "outputs": [],
      "source": [
        "import pandas as pd\n",
        "from sklearn import preprocessing\n",
        "from sklearn.model_selection import train_test_split\n",
        "from keras.models import Sequential\n",
        "from keras.layers import Dense"
      ]
    },
    {
      "cell_type": "code",
      "source": [
        "url = 'https://github.com/NuryaFahruRosyidin2406/Dicoding_Learn-ML/raw/main/Dataset/Membuat%20dan%20Melatih%20Model%20untuk%20Klasifikasi%20Banyak%20Kelas/Iris.csv'\n",
        "# df = pd.read_csv('Iris.csv')\n",
        "df = pd.read_csv(url)\n",
        "df"
      ],
      "metadata": {
        "id": "jyjaPBQt69XV"
      },
      "execution_count": null,
      "outputs": []
    }
  ]
}