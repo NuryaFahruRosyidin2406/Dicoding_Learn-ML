{
  "nbformat": 4,
  "nbformat_minor": 0,
  "metadata": {
    "colab": {
      "provenance": [],
      "authorship_tag": "ABX9TyNMlnbiw4Pc3NwWc1/hbMYH",
      "include_colab_link": true
    },
    "kernelspec": {
      "name": "python3",
      "display_name": "Python 3"
    },
    "language_info": {
      "name": "python"
    }
  },
  "cells": [
    {
      "cell_type": "markdown",
      "metadata": {
        "id": "view-in-github",
        "colab_type": "text"
      },
      "source": [
        "<a href=\"https://colab.research.google.com/github/NuryaFahruRosyidin2406/Dicoding_Learn-ML/blob/main/Tugas%20Akhir_Project%20Deploy%20ML%20klasifikasi%20gambar%20hewan%20menggunakan%20TensorFlow%20Lite/Tugas_Akhir_Project_Deploy_ML_klasifikasi_gambar_hewan_air_menggunakan_TensorFlow_Lite.ipynb\" target=\"_parent\"><img src=\"https://colab.research.google.com/assets/colab-badge.svg\" alt=\"Open In Colab\"/></a>"
      ]
    },
    {
      "cell_type": "markdown",
      "source": [
        "# Proyek Tugas Akhir Klasifikasi Hewan Air"
      ],
      "metadata": {
        "id": "ZTY1A8BuFQ0-"
      }
    },
    {
      "cell_type": "markdown",
      "source": [
        "## Menyiapkan Library"
      ],
      "metadata": {
        "id": "mrRlkKCeFbpA"
      }
    },
    {
      "cell_type": "code",
      "execution_count": 1,
      "metadata": {
        "id": "YGeNDNTVFBzI"
      },
      "outputs": [],
      "source": [
        "import tensorflow as tf\n",
        "from tensorflow.keras.preprocessing.image import ImageDataGenerator\n",
        "from tensorflow.keras.applications import MobileNetV2\n",
        "from tensorflow.keras.layers import Input\n",
        "import numpy as np\n",
        "import matplotlib.pyplot as plt\n",
        "import pathlib"
      ]
    },
    {
      "cell_type": "markdown",
      "source": [
        "## Membaca penyimpanan dataset di GitHub"
      ],
      "metadata": {
        "id": "iGjIdEdGRKKO"
      }
    },
    {
      "cell_type": "code",
      "source": [
        "!git clone https://github.com/NuryaFahruRosyidin2406/Dicoding_Learn-ML.git"
      ],
      "metadata": {
        "colab": {
          "base_uri": "https://localhost:8080/"
        },
        "id": "LpCE3o9NRSyA",
        "outputId": "0d921149-25ea-410f-81a8-42ee021220e8"
      },
      "execution_count": 2,
      "outputs": [
        {
          "output_type": "stream",
          "name": "stdout",
          "text": [
            "Cloning into 'Dicoding_Learn-ML'...\n",
            "remote: Enumerating objects: 28314, done.\u001b[K\n",
            "remote: Total 28314 (delta 0), reused 0 (delta 0), pack-reused 28314\u001b[K\n",
            "Receiving objects: 100% (28314/28314), 2.34 GiB | 30.36 MiB/s, done.\n",
            "Resolving deltas: 100% (128/128), done.\n",
            "Updating files: 100% (28181/28181), done.\n"
          ]
        }
      ]
    },
    {
      "cell_type": "markdown",
      "source": [
        "## Preprocessing Data\n",
        "\n",
        "1.   Melakukan image augmentation.\n",
        "2.   Mempersiapkan data latih dan data evaluasi.\n",
        "3.   Memberi label pada dataset secara otomatis."
      ],
      "metadata": {
        "id": "-jVD268iFmjm"
      }
    },
    {
      "cell_type": "code",
      "source": [
        "TRAINING_DIR = \"/content/Dicoding_Learn-ML/Tugas Akhir_Project Deploy ML klasifikasi gambar hewan menggunakan TensorFlow Lite/datasets_buah_segar_dan_busuk/train\"\n",
        "VALIDATION_DIR = \"/content/Dicoding_Learn-ML/Tugas Akhir_Project Deploy ML klasifikasi gambar hewan menggunakan TensorFlow Lite/datasets_buah_segar_dan_busuk/test\"\n",
        "\n",
        "train_datagen = ImageDataGenerator(\n",
        "    rescale = 1.0/255,\n",
        "    rotation_range = 30,\n",
        "    shear_range = 0.2,\n",
        "    zoom_range = 0.2,\n",
        "    vertical_flip = True,\n",
        "    fill_mode = 'nearest'\n",
        ")\n",
        "\n",
        "train_generator = train_datagen.flow_from_directory(TRAINING_DIR,\n",
        "                                                    batch_size = 32,\n",
        "                                                    class_mode = 'categorical',\n",
        "                                                    target_size = (150, 150))"
      ],
      "metadata": {
        "colab": {
          "base_uri": "https://localhost:8080/"
        },
        "id": "no84GbEdFrRS",
        "outputId": "634bc0d1-256e-448e-dc88-a3c35661b398"
      },
      "execution_count": 3,
      "outputs": [
        {
          "output_type": "stream",
          "name": "stdout",
          "text": [
            "Found 10878 images belonging to 6 classes.\n"
          ]
        }
      ]
    },
    {
      "cell_type": "markdown",
      "source": [
        "## Melihat class nya untuk train"
      ],
      "metadata": {
        "id": "XCvfySyVTEtR"
      }
    },
    {
      "cell_type": "code",
      "source": [
        "# Mendapatkan kelas-kelas dan indeksnya dari generator\n",
        "class_labels_train = train_generator.class_indices\n",
        "\n",
        "# Mencetak kelas-kelas dan indeksnya\n",
        "print(class_labels_train)"
      ],
      "metadata": {
        "colab": {
          "base_uri": "https://localhost:8080/"
        },
        "id": "GM5yC4-qTG65",
        "outputId": "ebd0b5af-cbd6-495f-f44d-a050ce6ecb84"
      },
      "execution_count": 4,
      "outputs": [
        {
          "output_type": "stream",
          "name": "stdout",
          "text": [
            "{'freshapples': 0, 'freshbanana': 1, 'freshoranges': 2, 'rottenapples': 3, 'rottenbanana': 4, 'rottenoranges': 5}\n"
          ]
        }
      ]
    },
    {
      "cell_type": "markdown",
      "source": [
        "## Melihat class nya untuk validasi"
      ],
      "metadata": {
        "id": "C8WImsJcTSAH"
      }
    },
    {
      "cell_type": "code",
      "source": [
        "validation_datagen = ImageDataGenerator(\n",
        "    rescale=1.0/255\n",
        ")\n",
        "validation_generator = validation_datagen.flow_from_directory(VALIDATION_DIR,\n",
        "                                                            batch_size=32,\n",
        "                                                            class_mode='categorical',\n",
        "                                                            target_size=(150, 150))"
      ],
      "metadata": {
        "colab": {
          "base_uri": "https://localhost:8080/"
        },
        "id": "Wi8ZS3OjTaLz",
        "outputId": "7f5d7bd0-cc4b-49bf-c051-fdbd945fd480"
      },
      "execution_count": 5,
      "outputs": [
        {
          "output_type": "stream",
          "name": "stdout",
          "text": [
            "Found 2721 images belonging to 6 classes.\n"
          ]
        }
      ]
    },
    {
      "cell_type": "code",
      "source": [
        "# Mendapatkan kelas-kelas dan indeksnya dari generator\n",
        "class_labels_validasi = validation_generator.class_indices\n",
        "\n",
        "# Mencetak kelas-kelas dan indeksnya\n",
        "print(class_labels_validasi)"
      ],
      "metadata": {
        "colab": {
          "base_uri": "https://localhost:8080/"
        },
        "id": "JTRCNndaTVM7",
        "outputId": "eaf0b922-535e-4730-8f2e-41cc4365c4c6"
      },
      "execution_count": 6,
      "outputs": [
        {
          "output_type": "stream",
          "name": "stdout",
          "text": [
            "{'freshapples': 0, 'freshbanana': 1, 'freshoranges': 2, 'rottenapples': 3, 'rottenbanana': 4, 'rottenoranges': 5}\n"
          ]
        }
      ]
    },
    {
      "cell_type": "markdown",
      "source": [
        "## Memilih kelas-kelas dataset yang akan digunakan"
      ],
      "metadata": {
        "id": "Pnww3JbgUbMu"
      }
    },
    {
      "cell_type": "code",
      "source": [
        "# classes = ['Crabs', 'Dolphin', 'Jelly Fish', 'Sea Urchins', 'Starfish', 'Whale']"
      ],
      "metadata": {
        "id": "d4CUqxfhUrFJ"
      },
      "execution_count": 7,
      "outputs": []
    },
    {
      "cell_type": "markdown",
      "source": [
        "## Melihat class nya untuk train dari kelas-kelas dataset yang akan digunakan"
      ],
      "metadata": {
        "id": "2SFyXi8pW7IR"
      }
    },
    {
      "cell_type": "code",
      "source": [
        "train_generator = train_datagen.flow_from_directory(TRAINING_DIR,\n",
        "                                                    batch_size = 32,\n",
        "                                                    class_mode = 'categorical',\n",
        "                                                    target_size = (150, 150))\n",
        "                                                    # classes=classes)"
      ],
      "metadata": {
        "id": "Jk_hAoHGXAXS",
        "colab": {
          "base_uri": "https://localhost:8080/"
        },
        "outputId": "eefd1b11-80a3-4434-d6a2-2bdc05765195"
      },
      "execution_count": 8,
      "outputs": [
        {
          "output_type": "stream",
          "name": "stdout",
          "text": [
            "Found 10878 images belonging to 6 classes.\n"
          ]
        }
      ]
    },
    {
      "cell_type": "code",
      "source": [
        "# Mendapatkan kelas-kelas dan indeksnya dari generator\n",
        "class_labels_train = train_generator.class_indices\n",
        "\n",
        "# Mencetak kelas-kelas dan indeksnya\n",
        "print(class_labels_train)"
      ],
      "metadata": {
        "id": "oroa3-m-XGfp",
        "colab": {
          "base_uri": "https://localhost:8080/"
        },
        "outputId": "8c254281-4032-41d3-85fb-3434f27f3171"
      },
      "execution_count": 9,
      "outputs": [
        {
          "output_type": "stream",
          "name": "stdout",
          "text": [
            "{'freshapples': 0, 'freshbanana': 1, 'freshoranges': 2, 'rottenapples': 3, 'rottenbanana': 4, 'rottenoranges': 5}\n"
          ]
        }
      ]
    },
    {
      "cell_type": "markdown",
      "source": [
        "## Melihat class nya untuk validasi dari kelas-kelas dataset yang akan digunakan"
      ],
      "metadata": {
        "id": "kB-QjzQJXKxt"
      }
    },
    {
      "cell_type": "code",
      "source": [
        "validation_generator = validation_datagen.flow_from_directory(VALIDATION_DIR,\n",
        "                                                            batch_size=32,\n",
        "                                                            class_mode='categorical',\n",
        "                                                            target_size=(150, 150))\n",
        "                                                            # classes=classes)"
      ],
      "metadata": {
        "id": "bYgzWiU6XT4u",
        "colab": {
          "base_uri": "https://localhost:8080/"
        },
        "outputId": "b64e432b-90d0-40f2-a20f-dbce908cfef1"
      },
      "execution_count": 10,
      "outputs": [
        {
          "output_type": "stream",
          "name": "stdout",
          "text": [
            "Found 2721 images belonging to 6 classes.\n"
          ]
        }
      ]
    },
    {
      "cell_type": "code",
      "source": [
        "# Mendapatkan kelas-kelas dan indeksnya dari generator\n",
        "class_labels_validasi = validation_generator.class_indices\n",
        "\n",
        "# Mencetak kelas-kelas dan indeksnya\n",
        "print(class_labels_validasi)"
      ],
      "metadata": {
        "id": "oXcx6DFoXgAe",
        "colab": {
          "base_uri": "https://localhost:8080/"
        },
        "outputId": "a7bbd106-b34d-4513-988b-a622b182a6b6"
      },
      "execution_count": 11,
      "outputs": [
        {
          "output_type": "stream",
          "name": "stdout",
          "text": [
            "{'freshapples': 0, 'freshbanana': 1, 'freshoranges': 2, 'rottenapples': 3, 'rottenbanana': 4, 'rottenoranges': 5}\n"
          ]
        }
      ]
    },
    {
      "cell_type": "markdown",
      "source": [
        "## Membuat Model"
      ],
      "metadata": {
        "id": "838kw44dTnMl"
      }
    },
    {
      "cell_type": "markdown",
      "source": [
        "!-- Selanjutnya, buat dan latihlah model menggunakan dataset yang telah kita siapkan sebelumnya. Teknik yang akan digunakan kali ini adalah transfer learning memanfaatkan model `MobileNetV2`. --"
      ],
      "metadata": {
        "id": "v835la0zTpqT"
      }
    },
    {
      "cell_type": "code",
      "source": [
        "# import tensorflow as tf\n",
        "# model = tf.keras.models.Sequential([\n",
        "#     tf.keras.layers.Conv2D(64, (5,5), activation='relu', padding= 'valid', input_shape=(224,224,3)),\n",
        "#     tf.keras.layers.MaxPooling2D(pool_size=(2,2)),\n",
        "#     tf.keras.layers.Dropout(0.2),\n",
        "#     tf.keras.layers.BatchNormalization(),\n",
        "\n",
        "#     tf.keras.layers.Conv2D(128, (5,5), activation='relu'),\n",
        "#     tf.keras.layers.MaxPooling2D(pool_size=(2,2)),\n",
        "#     tf.keras.layers.Dropout(0.2),\n",
        "#     tf.keras.layers.BatchNormalization(),\n",
        "\n",
        "#     tf.keras.layers.Conv2D(256, (3,3), activation='relu'),\n",
        "#     tf.keras.layers.MaxPooling2D(pool_size=(2,2)),\n",
        "#     tf.keras.layers.Dropout(0.2),\n",
        "#     tf.keras.layers.BatchNormalization(),\n",
        "\n",
        "#     tf.keras.layers.Conv2D(512, (3,3), activation='relu'),\n",
        "#     tf.keras.layers.MaxPooling2D(pool_size=(2,2)),\n",
        "#     tf.keras.layers.Dropout(0.2),\n",
        "#     tf.keras.layers.BatchNormalization(),\n",
        "\n",
        "#     tf.keras.layers.Conv2D(1024, (3,3), activation='relu'),\n",
        "#     tf.keras.layers.MaxPooling2D(pool_size=(2,2)),\n",
        "\n",
        "#     tf.keras.layers.Flatten(),\n",
        "#     tf.keras.layers.Dense(512, activation='relu'),\n",
        "#     tf.keras.layers.Dense(6, activation='softmax'),\n",
        "# ])\n",
        "\n",
        "# model.summary()"
      ],
      "metadata": {
        "id": "nPc3w8xBFCeW"
      },
      "execution_count": 12,
      "outputs": []
    },
    {
      "cell_type": "code",
      "source": [
        "import tensorflow as tf\n",
        "model = tf.keras.models.Sequential([\n",
        "    # Note the input shape is the desired size of the image 150x150 with 3 bytes color\n",
        "    tf.keras.layers.Conv2D(64, (3,3), activation='relu', input_shape=(150, 150, 3)),\n",
        "    tf.keras.layers.MaxPooling2D(2,2),\n",
        "    tf.keras.layers.Conv2D(32, (3,3), activation='relu'),\n",
        "    tf.keras.layers.MaxPooling2D(2,2),\n",
        "    tf.keras.layers.Dropout(0.4),\n",
        "    tf.keras.layers.Conv2D(64, (3,3), activation='relu'),\n",
        "    tf.keras.layers.MaxPooling2D(2,2),\n",
        "    tf.keras.layers.Dropout(0.4),\n",
        "    # Flatten the results to feed into a DNN\n",
        "    tf.keras.layers.Flatten(),\n",
        "    # 512 neuron hidden layer\n",
        "    tf.keras.layers.Dense(512, activation='relu'),\n",
        "    tf.keras.layers.Dense(256, activation='relu'),\n",
        "    tf.keras.layers.Dense(6, activation='softmax')\n",
        "])\n",
        "\n",
        "model.summary()"
      ],
      "metadata": {
        "colab": {
          "base_uri": "https://localhost:8080/"
        },
        "id": "zgqccHuB3Lgi",
        "outputId": "072db33d-812f-42b4-d900-bf9d7ecb0b0a"
      },
      "execution_count": 13,
      "outputs": [
        {
          "output_type": "stream",
          "name": "stdout",
          "text": [
            "Model: \"sequential\"\n",
            "_________________________________________________________________\n",
            " Layer (type)                Output Shape              Param #   \n",
            "=================================================================\n",
            " conv2d (Conv2D)             (None, 148, 148, 64)      1792      \n",
            "                                                                 \n",
            " max_pooling2d (MaxPooling2  (None, 74, 74, 64)        0         \n",
            " D)                                                              \n",
            "                                                                 \n",
            " conv2d_1 (Conv2D)           (None, 72, 72, 32)        18464     \n",
            "                                                                 \n",
            " max_pooling2d_1 (MaxPoolin  (None, 36, 36, 32)        0         \n",
            " g2D)                                                            \n",
            "                                                                 \n",
            " dropout (Dropout)           (None, 36, 36, 32)        0         \n",
            "                                                                 \n",
            " conv2d_2 (Conv2D)           (None, 34, 34, 64)        18496     \n",
            "                                                                 \n",
            " max_pooling2d_2 (MaxPoolin  (None, 17, 17, 64)        0         \n",
            " g2D)                                                            \n",
            "                                                                 \n",
            " dropout_1 (Dropout)         (None, 17, 17, 64)        0         \n",
            "                                                                 \n",
            " flatten (Flatten)           (None, 18496)             0         \n",
            "                                                                 \n",
            " dense (Dense)               (None, 512)               9470464   \n",
            "                                                                 \n",
            " dense_1 (Dense)             (None, 256)               131328    \n",
            "                                                                 \n",
            " dense_2 (Dense)             (None, 6)                 1542      \n",
            "                                                                 \n",
            "=================================================================\n",
            "Total params: 9642086 (36.78 MB)\n",
            "Trainable params: 9642086 (36.78 MB)\n",
            "Non-trainable params: 0 (0.00 Byte)\n",
            "_________________________________________________________________\n"
          ]
        }
      ]
    },
    {
      "cell_type": "code",
      "source": [
        "# pre_trained_model = MobileNetV2(weights=\"imagenet\", include_top=False,\n",
        "#                                 input_tensor=Input(shape=(150, 150, 3)))\n",
        "\n",
        "# for layer in pre_trained_model.layers:\n",
        "#     layer.trainable = False\n",
        "\n",
        "# last_output = pre_trained_model.output"
      ],
      "metadata": {
        "id": "v1i5_msiTr15"
      },
      "execution_count": 14,
      "outputs": []
    },
    {
      "cell_type": "code",
      "source": [
        "# x = tf.keras.layers.Flatten(name=\"flatten\")(last_output)\n",
        "# x = tf.keras.layers.Dropout(0.5)(x)\n",
        "# x = tf.keras.layers.Dense(32, activation=\"relu\")(x)\n",
        "# x = tf.keras.layers.Dense(64, activation=\"relu\")(x)\n",
        "# x = tf.keras.layers.Dense(128, activation=\"relu\")(x)\n",
        "# x = tf.keras.layers.Dropout(0.5)(x)\n",
        "# x = tf.keras.layers.Dense(23, activation='softmax')(x)\n",
        "\n",
        "# model = tf.keras.models.Model(pre_trained_model.input, x)\n",
        "\n",
        "# model.summary()"
      ],
      "metadata": {
        "id": "ZTmRhEJ3UU5u"
      },
      "execution_count": 15,
      "outputs": []
    },
    {
      "cell_type": "code",
      "source": [
        "int_lr = 1e-3\n",
        "num_epochs = 30\n",
        "\n",
        "optimizer = tf.optimizers.Adam(learning_rate=int_lr)\n",
        "model.compile(optimizer=optimizer,\n",
        "              loss='categorical_crossentropy',\n",
        "              metrics=['accuracy'])"
      ],
      "metadata": {
        "id": "VlyZ_Xi0Uf8F"
      },
      "execution_count": 16,
      "outputs": []
    },
    {
      "cell_type": "code",
      "source": [
        "class myCallback(tf.keras.callbacks.Callback):\n",
        "  def on_epoch_end(self, epoch, logs={}):\n",
        "    if(logs.get('accuracy')>0.9999):\n",
        "      print(\"\\nTarget Akurasi Telah Tercapai\")\n",
        "      self.model.stop_training = True\n",
        "\n",
        "callbacks = myCallback()"
      ],
      "metadata": {
        "id": "2AbuNhvN4QEQ"
      },
      "execution_count": 17,
      "outputs": []
    },
    {
      "cell_type": "markdown",
      "source": [
        "## Melatih Model"
      ],
      "metadata": {
        "id": "rzGI7e_EUr_I"
      }
    },
    {
      "cell_type": "code",
      "source": [
        "H = model.fit(train_generator,\n",
        "              epochs=num_epochs,\n",
        "              callbacks=[callbacks],\n",
        "              validation_data=validation_generator)"
      ],
      "metadata": {
        "colab": {
          "base_uri": "https://localhost:8080/"
        },
        "id": "chakwaTmUunN",
        "outputId": "0260b059-6d43-4e3f-e60d-2d1a9ccb86ad"
      },
      "execution_count": 18,
      "outputs": [
        {
          "output_type": "stream",
          "name": "stdout",
          "text": [
            "Epoch 1/30\n",
            "340/340 [==============================] - 831s 2s/step - loss: 0.7560 - accuracy: 0.7106 - val_loss: 0.4610 - val_accuracy: 0.8728\n",
            "Epoch 2/30\n",
            "340/340 [==============================] - 809s 2s/step - loss: 0.3708 - accuracy: 0.8686 - val_loss: 0.3596 - val_accuracy: 0.8758\n",
            "Epoch 3/30\n",
            "340/340 [==============================] - 806s 2s/step - loss: 0.2962 - accuracy: 0.8945 - val_loss: 0.2853 - val_accuracy: 0.8989\n",
            "Epoch 4/30\n",
            "340/340 [==============================] - 812s 2s/step - loss: 0.2293 - accuracy: 0.9142 - val_loss: 0.2805 - val_accuracy: 0.8920\n",
            "Epoch 5/30\n",
            "340/340 [==============================] - 863s 3s/step - loss: 0.2066 - accuracy: 0.9247 - val_loss: 0.1789 - val_accuracy: 0.9346\n",
            "Epoch 6/30\n",
            "340/340 [==============================] - 838s 2s/step - loss: 0.1951 - accuracy: 0.9309 - val_loss: 0.1927 - val_accuracy: 0.9272\n",
            "Epoch 7/30\n",
            "340/340 [==============================] - 836s 2s/step - loss: 0.1722 - accuracy: 0.9374 - val_loss: 0.1547 - val_accuracy: 0.9463\n",
            "Epoch 8/30\n",
            "340/340 [==============================] - 838s 2s/step - loss: 0.1634 - accuracy: 0.9421 - val_loss: 0.2002 - val_accuracy: 0.9265\n",
            "Epoch 9/30\n",
            "340/340 [==============================] - 857s 3s/step - loss: 0.1535 - accuracy: 0.9443 - val_loss: 0.2238 - val_accuracy: 0.9191\n",
            "Epoch 10/30\n",
            "340/340 [==============================] - 822s 2s/step - loss: 0.1422 - accuracy: 0.9480 - val_loss: 0.1348 - val_accuracy: 0.9526\n",
            "Epoch 11/30\n",
            "340/340 [==============================] - 816s 2s/step - loss: 0.1420 - accuracy: 0.9508 - val_loss: 0.1355 - val_accuracy: 0.9566\n",
            "Epoch 12/30\n",
            "340/340 [==============================] - 781s 2s/step - loss: 0.1025 - accuracy: 0.9641 - val_loss: 0.1090 - val_accuracy: 0.9647\n",
            "Epoch 13/30\n",
            "340/340 [==============================] - 822s 2s/step - loss: 0.1238 - accuracy: 0.9557 - val_loss: 0.1352 - val_accuracy: 0.9522\n",
            "Epoch 14/30\n",
            "340/340 [==============================] - 814s 2s/step - loss: 0.1041 - accuracy: 0.9625 - val_loss: 0.0965 - val_accuracy: 0.9651\n",
            "Epoch 15/30\n",
            "340/340 [==============================] - 777s 2s/step - loss: 0.1031 - accuracy: 0.9637 - val_loss: 0.0839 - val_accuracy: 0.9680\n",
            "Epoch 16/30\n",
            "340/340 [==============================] - 808s 2s/step - loss: 0.0952 - accuracy: 0.9673 - val_loss: 0.1103 - val_accuracy: 0.9592\n",
            "Epoch 17/30\n",
            "340/340 [==============================] - 821s 2s/step - loss: 0.0760 - accuracy: 0.9728 - val_loss: 0.0971 - val_accuracy: 0.9632\n",
            "Epoch 18/30\n",
            "340/340 [==============================] - 790s 2s/step - loss: 0.1013 - accuracy: 0.9613 - val_loss: 0.0766 - val_accuracy: 0.9724\n",
            "Epoch 19/30\n",
            "340/340 [==============================] - 821s 2s/step - loss: 0.0795 - accuracy: 0.9731 - val_loss: 0.1040 - val_accuracy: 0.9563\n",
            "Epoch 20/30\n",
            "340/340 [==============================] - 826s 2s/step - loss: 0.0882 - accuracy: 0.9681 - val_loss: 0.0989 - val_accuracy: 0.9673\n",
            "Epoch 21/30\n",
            "340/340 [==============================] - 826s 2s/step - loss: 0.0655 - accuracy: 0.9765 - val_loss: 0.1490 - val_accuracy: 0.9463\n",
            "Epoch 22/30\n",
            "340/340 [==============================] - 790s 2s/step - loss: 0.0816 - accuracy: 0.9724 - val_loss: 0.0866 - val_accuracy: 0.9757\n",
            "Epoch 23/30\n",
            "340/340 [==============================] - 789s 2s/step - loss: 0.0578 - accuracy: 0.9797 - val_loss: 0.0581 - val_accuracy: 0.9816\n",
            "Epoch 24/30\n",
            "340/340 [==============================] - 790s 2s/step - loss: 0.0719 - accuracy: 0.9744 - val_loss: 0.0682 - val_accuracy: 0.9802\n",
            "Epoch 25/30\n",
            "340/340 [==============================] - 791s 2s/step - loss: 0.0586 - accuracy: 0.9785 - val_loss: 0.0510 - val_accuracy: 0.9853\n",
            "Epoch 26/30\n",
            "340/340 [==============================] - 790s 2s/step - loss: 0.0783 - accuracy: 0.9732 - val_loss: 0.0714 - val_accuracy: 0.9776\n",
            "Epoch 27/30\n",
            "340/340 [==============================] - 789s 2s/step - loss: 0.0481 - accuracy: 0.9838 - val_loss: 0.0625 - val_accuracy: 0.9765\n",
            "Epoch 28/30\n",
            "340/340 [==============================] - 826s 2s/step - loss: 0.0472 - accuracy: 0.9848 - val_loss: 0.0842 - val_accuracy: 0.9706\n",
            "Epoch 29/30\n",
            "340/340 [==============================] - 797s 2s/step - loss: 0.0822 - accuracy: 0.9737 - val_loss: 0.1177 - val_accuracy: 0.9636\n",
            "Epoch 30/30\n",
            "340/340 [==============================] - 794s 2s/step - loss: 0.0515 - accuracy: 0.9817 - val_loss: 0.0872 - val_accuracy: 0.9699\n"
          ]
        }
      ]
    },
    {
      "cell_type": "markdown",
      "source": [
        "### Membuat plot akurasi dari model"
      ],
      "metadata": {
        "id": "q-nBXWbba2fe"
      }
    },
    {
      "cell_type": "code",
      "source": [
        "plt.figure(figsize=(10, 5))\n",
        "plt.plot(np.arange(0, num_epochs), H.history[\"accuracy\"], label=\"training\")\n",
        "plt.plot(np.arange(0, num_epochs), H.history[\"val_accuracy\"], label=\"validation\")\n",
        "plt.title(\"Accuracy\")\n",
        "plt.xlabel(\"Epoch\")\n",
        "plt.ylabel(\"Accuracy\")\n",
        "plt.legend()"
      ],
      "metadata": {
        "colab": {
          "base_uri": "https://localhost:8080/",
          "height": 505
        },
        "id": "8JbbV8wfbA8-",
        "outputId": "63547adf-7586-4bba-ad01-ba7b25be9174"
      },
      "execution_count": 19,
      "outputs": [
        {
          "output_type": "execute_result",
          "data": {
            "text/plain": [
              "<matplotlib.legend.Legend at 0x78400d75e920>"
            ]
          },
          "metadata": {},
          "execution_count": 19
        },
        {
          "output_type": "display_data",
          "data": {
            "text/plain": [
              "<Figure size 1000x500 with 1 Axes>"
            ],
            "image/png": "[encoded data removed]"
          },
          "metadata": {}
        }
      ]
    },
    {
      "cell_type": "markdown",
      "source": [
        "### Membuat plot loss dari model"
      ],
      "metadata": {
        "id": "XWk_JHAja7Jr"
      }
    },
    {
      "cell_type": "code",
      "source": [
        "plt.style.use(\"ggplot\")\n",
        "plt.figure(figsize=(10, 5))\n",
        "plt.plot(np.arange(0, num_epochs), H.history[\"loss\"], label=\"training\")\n",
        "plt.plot(np.arange(0, num_epochs), H.history[\"val_loss\"], label=\"validation\")\n",
        "plt.title(\"Loss\")\n",
        "plt.xlabel(\"Epoch\")\n",
        "plt.ylabel(\"Loss\")\n",
        "plt.legend()"
      ],
      "metadata": {
        "colab": {
          "base_uri": "https://localhost:8080/",
          "height": 510
        },
        "id": "DlB42fo4bL6k",
        "outputId": "0d55b8ba-7f98-4e49-e983-c329406a30b8"
      },
      "execution_count": 20,
      "outputs": [
        {
          "output_type": "execute_result",
          "data": {
            "text/plain": [
              "<matplotlib.legend.Legend at 0x78400d7b0490>"
            ]
          },
          "metadata": {},
          "execution_count": 20
        },
        {
          "output_type": "display_data",
          "data": {
            "text/plain": [
              "<Figure size 1000x500 with 1 Axes>"
            ],
            "image/png": "[encoded data removed]"
          },
          "metadata": {}
        }
      ]
    },
    {
      "cell_type": "markdown",
      "source": [
        "## Mengubah model"
      ],
      "metadata": {
        "id": "rjqEsTovbh78"
      }
    },
    {
      "cell_type": "markdown",
      "source": [
        "### Menyimpan model dalam format SavedModel"
      ],
      "metadata": {
        "id": "jHn2uZhLbmXa"
      }
    },
    {
      "cell_type": "code",
      "source": [
        "export_dir = 'saved_model/'\n",
        "tf.saved_model.save(model, export_dir)"
      ],
      "metadata": {
        "id": "fwTtLh2abrHM"
      },
      "execution_count": 21,
      "outputs": []
    },
    {
      "cell_type": "markdown",
      "source": [
        "### Convert SavedModel menjadi vegs.tflite"
      ],
      "metadata": {
        "id": "9GqdAkR5cEJ2"
      }
    },
    {
      "cell_type": "code",
      "source": [
        "converter = tf.lite.TFLiteConverter.from_saved_model(export_dir)\n",
        "tflite_model = converter.convert()"
      ],
      "metadata": {
        "id": "C1QTVsZhcKoY"
      },
      "execution_count": 22,
      "outputs": []
    },
    {
      "cell_type": "code",
      "source": [
        "tflite_model_file = pathlib.Path('vegs.tflite')\n",
        "tflite_model_file.write_bytes(tflite_model)"
      ],
      "metadata": {
        "colab": {
          "base_uri": "https://localhost:8080/"
        },
        "id": "LKRk2IWbcNMA",
        "outputId": "763efc56-0435-46ed-d57e-be2c457b2db8"
      },
      "execution_count": 23,
      "outputs": [
        {
          "output_type": "execute_result",
          "data": {
            "text/plain": [
              "38572856"
            ]
          },
          "metadata": {},
          "execution_count": 23
        }
      ]
    }
  ]
}